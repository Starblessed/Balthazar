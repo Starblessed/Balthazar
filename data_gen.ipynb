{
 "cells": [
  {
   "cell_type": "code",
   "execution_count": 19,
   "id": "1ab7f852",
   "metadata": {},
   "outputs": [],
   "source": [
    "import pandas as pd\n",
    "import statistics as stt"
   ]
  },
  {
   "cell_type": "code",
   "execution_count": 2,
   "id": "9ffbc798",
   "metadata": {},
   "outputs": [],
   "source": [
    "def fix_entry(entry):\n",
    "    fixed_entry0 = entry.replace('P rópria', 'Própria')\n",
    "    fixed_entry1 = fixed_entry0.replace('/n', ' ')\n",
    "    fixed_entry = fixed_entry1.replace('Não Realizada', 'Nulo')\n",
    "    return fixed_entry\n",
    "\n",
    "beach_ids = ['BG000', 'GM000', 'GM001', 'PN000', 'PS001', 'PS000', 'BD000', 'BD002', 'BD003', 'BD005', 'BD007', 'BD009', 'BD010', 'JT000', 'PP010', 'GV001', 'GV002', 'VD000', 'LB000', 'LB001', 'LB003', 'IP003', 'IP010', 'IP006', 'AR000', 'PD000', 'CP100', 'CP004', 'CP005', 'CP008', 'LM002', 'VR000', 'UR000', 'BT000', 'BT001', 'FL000', 'FL004']\n",
    "valid_entries = ['Própria', 'Imprópria', 'Nulo']"
   ]
  },
  {
   "cell_type": "code",
   "execution_count": 3,
   "id": "f51bc2f1",
   "metadata": {},
   "outputs": [],
   "source": [
    "def clean_data(old_data):\n",
    "    prep_data = fix_entry(old_data)\n",
    "    target_list = prep_data.split()\n",
    "    new_data = []\n",
    "    for c in target_list:\n",
    "        if (c in beach_ids) or (c in valid_entries):\n",
    "            new_data.append(c)\n",
    "    return new_data"
   ]
  },
  {
   "cell_type": "code",
   "execution_count": 6,
   "id": "238958a2",
   "metadata": {},
   "outputs": [],
   "source": [
    "def formatter(w_data):\n",
    "    dict_build = {}\n",
    "    id_counter = []\n",
    "    for w_entry in (w_data):\n",
    "        \n",
    "        if w_entry in beach_ids:\n",
    "            \n",
    "            if w_entry not in id_counter:\n",
    "                dict_build.update({w_entry : []})\n",
    "            id_counter.append(w_entry)\n",
    "        else:\n",
    "            dict_build[id_counter[-1]].append(w_entry)\n",
    "            \n",
    "    return dict_build\n",
    "        "
   ]
  },
  {
   "cell_type": "code",
   "execution_count": 24,
   "id": "6ee1fff9",
   "metadata": {},
   "outputs": [],
   "source": [
    "def data_validation(data):\n",
    "    counter_list = []\n",
    "    indexer = 0\n",
    "    for checking in beach_ids:\n",
    "        counter_list.append(len(data[checking]))\n",
    "        \n",
    "    ev = stt.mode(counter_list)\n",
    "    print(f'-- The expected value is {ev} --') \n",
    "    \n",
    "    for checking in counter_list:\n",
    "        if checking != ev:\n",
    "            print(f'{beach_ids[indexer]} - {checking}')\n",
    "        indexer += 1\n",
    "    print('---------------------')\n",
    "        \n",
    "        "
   ]
  },
  {
   "cell_type": "code",
   "execution_count": 26,
   "id": "538172c6",
   "metadata": {
    "scrolled": false
   },
   "outputs": [],
   "source": [
    "def create_csv(dictionary, year):\n",
    "    df = pd.DataFrame(dictionary)\n",
    "    df.to_csv(f'raw_data_{year}.csv')"
   ]
  },
  {
   "cell_type": "code",
   "execution_count": 4,
   "id": "b483a658",
   "metadata": {},
   "outputs": [],
   "source": [
    "files = ['d_2017_1', 'd_2017_2', 'd_2018_1', 'd_2018_2']\n",
    "d_years = []\n",
    "for reader in files:\n",
    "    temp_file = open(f'{reader}.txt')\n",
    "    d_years.append(temp_file.read())\n",
    "    temp_file.close()\n",
    "    "
   ]
  },
  {
   "cell_type": "code",
   "execution_count": 5,
   "id": "23e7abc0",
   "metadata": {
    "scrolled": true
   },
   "outputs": [],
   "source": [
    "d_2018 = clean_data(d_years[2]) + clean_data(d_years[3])"
   ]
  },
  {
   "cell_type": "code",
   "execution_count": null,
   "id": "fa1714a8",
   "metadata": {
    "scrolled": true
   },
   "outputs": [],
   "source": []
  }
 ],
 "metadata": {
  "kernelspec": {
   "display_name": "Python 3 (ipykernel)",
   "language": "python",
   "name": "python3"
  },
  "language_info": {
   "codemirror_mode": {
    "name": "ipython",
    "version": 3
   },
   "file_extension": ".py",
   "mimetype": "text/x-python",
   "name": "python",
   "nbconvert_exporter": "python",
   "pygments_lexer": "ipython3",
   "version": "3.9.7"
  }
 },
 "nbformat": 4,
 "nbformat_minor": 5
}
