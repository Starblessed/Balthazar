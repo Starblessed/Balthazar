{
  "metadata": {
    "kernelspec": {
      "name": "python",
      "display_name": "Python (Pyodide)",
      "language": "python"
    },
    "language_info": {
      "codemirror_mode": {
        "name": "python",
        "version": 3
      },
      "file_extension": ".py",
      "mimetype": "text/x-python",
      "name": "python",
      "nbconvert_exporter": "python",
      "pygments_lexer": "ipython3",
      "version": "3.8"
    }
  },
  "nbformat_minor": 5,
  "nbformat": 4,
  "cells": [
    {
      "cell_type": "code",
      "source": "import pandas as pd\nimport statistics as stt\nfrom matplotlib import pyplot as plt",
      "metadata": {
        "trusted": true
      },
      "execution_count": 1,
      "outputs": [],
      "id": "1ab7f852"
    },
    {
      "cell_type": "code",
      "source": "def fix_entry(entry):\n    fixed_entry0 = entry.replace('P rópria', 'Própria')\n    fixed_entry1 = fixed_entry0.replace('/n', ' ')\n    fixed_entry = fixed_entry1.replace('Não Realizada', 'Nulo')\n    return fixed_entry\n\nbeach_ids = ['BG000', 'GM000', 'GM001', 'PN000',\n             'PS001', 'PS000', 'BD000', 'BD002',\n             'BD003', 'BD005', 'BD007', 'BD009',\n             'BD010', 'JT000', 'PP010', 'GV001',\n             'GV002', 'VD000', 'LB000', 'LB001',\n             'LB003', 'IP003', 'IP010', 'IP006',\n             'AR000', 'PD000', 'CP100', 'CP004',\n             'CP005', 'CP008', 'LM002', 'VR000',\n             'UR000', 'BT000', 'BT001', 'FL000', 'FL004']\n\nvalid_entries = ['Própria', 'Imprópria', 'Nulo']\n\nfiles = ['d_2017_1', 'd_2017_2', 'd_2018_1', 'd_2018_2']\ndate_files = ['days_2017', 'days_2018', 'days_2019', 'days_2020']\n\ndates_0 = {}",
      "metadata": {
        "trusted": true
      },
      "execution_count": 9,
      "outputs": [],
      "id": "9ffbc798"
    },
    {
      "cell_type": "code",
      "source": "def clean_data(old_data):\n    prep_data = fix_entry(old_data)\n    target_list = prep_data.split()\n    new_data = []\n    for c in target_list:\n        if (c in beach_ids) or (c in valid_entries):\n            new_data.append(c)\n    return new_data",
      "metadata": {
        "trusted": true
      },
      "execution_count": 10,
      "outputs": [],
      "id": "f51bc2f1"
    },
    {
      "cell_type": "code",
      "source": "def formatter(w_data):\n    dict_build = {}\n    id_counter = []\n    for w_entry in (w_data):\n        \n        if w_entry in beach_ids:\n            \n            if w_entry not in id_counter:\n                dict_build.update({w_entry : []})\n            id_counter.append(w_entry)\n        else:\n            dict_build[id_counter[-1]].append(w_entry)\n            \n    return dict_build\n        ",
      "metadata": {
        "trusted": true
      },
      "execution_count": 11,
      "outputs": [],
      "id": "238958a2"
    },
    {
      "cell_type": "code",
      "source": "def data_validation(data):\n    counter_list = []\n    indexer = 0\n    for checking in beach_ids:\n        counter_list.append(len(data[checking]))\n        \n    ev = stt.mode(counter_list)\n    print(f'-- The expected value is {ev} --') \n    \n    for checking in counter_list:\n        if checking != ev:\n            print(f'{beach_ids[indexer]} - {checking}')\n        indexer += 1\n    print('---------------------')\n        \n        ",
      "metadata": {
        "trusted": true
      },
      "execution_count": 12,
      "outputs": [],
      "id": "6ee1fff9"
    },
    {
      "cell_type": "code",
      "source": "def create_csv(dictionary, year):\n    df = pd.DataFrame(dictionary)\n    df.to_csv(f'raw_data_{year}.csv')",
      "metadata": {
        "trusted": true
      },
      "execution_count": 13,
      "outputs": [],
      "id": "538172c6"
    },
    {
      "cell_type": "code",
      "source": "d_years = []\nfor reader in files:\n    temp_file = open(f'{reader}.txt')\n    d_years.append(temp_file.read())\n    temp_file.close()\n    ",
      "metadata": {
        "trusted": true
      },
      "execution_count": 14,
      "outputs": [],
      "id": "b483a658"
    },
    {
      "cell_type": "code",
      "source": "d_2018 = clean_data(d_years[2]) + clean_data(d_years[3])",
      "metadata": {
        "scrolled": true,
        "trusted": true
      },
      "execution_count": 15,
      "outputs": [],
      "id": "23e7abc0"
    },
    {
      "cell_type": "code",
      "source": "def date_formatter(target):\n    for reader in date_files:\n        temp_file = open(f'{reader}.txt')\n        output_text = temp_file.read()\n        target.update({f'{reader.replace(\"days_\", \"\")}' : output_text.split()})\n        temp_file.close()",
      "metadata": {
        "scrolled": true,
        "trusted": true
      },
      "execution_count": 74,
      "outputs": [],
      "id": "fa1714a8"
    },
    {
      "cell_type": "code",
      "source": "date_formatter(dates_0)\nprint(dates_0)",
      "metadata": {
        "trusted": true
      },
      "execution_count": 75,
      "outputs": [
        {
          "name": "stdout",
          "text": "{'2017': ['2', '5', '9', '12', '16', '18', '23', '26', '30', '2', '6', '9', '13', '16', '20', '22', '2', '6', '9', '13', '16', '20', '23', '27', '30', '6', '11', '19', '24', '27', '4', '8', '11', '15', '18', '22', '25', '29', '1', '5', '8', '13', '19', '22', '26', '29', '3', '6', '10', '13', '17', '20', '24', '27', '31', '3', '7', '10', '14', '17', '21', '24', '29', '31', '4', '11', '14', '20', '25', '28', '2', '5', '10', '16', '19', '23', '26', '31', '6', '9', '16', '21', '23', '27', '30', '4', '7', '11', '14', '18', '20', '27'], '2018': ['2', '4', '8', '11', '15', '18', '22', '25', '29', '1', '5', '7', '15', '19', '22', '26', '1', '5', '8', '12', '15', '19', '22', '27', '2', '5', '9', '12', '16', '19', '24', '26', '3', '7', '10', '14', '17', '21', '24', '30', '4', '7', '11', '14', '18', '20', '25', '28', '3', '5', '9', '12', '16', '19', '23', '26', '30', '2', '6', '9', '13', '16', '20', '23', '27', '30', '3', '5', '10', '13', '17', '20', '24', '27', '1', '4', '8', '10', '15', '18', '22', '25', '29', '31', '5', '8', '13', '22', '26', '29', '3', '6', '10', '13', '17', '20', '26'], '2019': ['2', '7', '10', '14', '17', '21', '24', '28', '31', '4', '8', '11', '14', '18', '21', '25', '27', '7', '11', '14', '18', '21', '25', '28', '1', '4', '11', '16', '25', '29', '2', '6', '9', '13', '16', '20', '23', '27', '30', '3', '6', '10', '13', '18', '24', '27', '1', '4', '8', '11', '15', '18', '22', '25', '29', '1', '5', '8', '12', '15', '19', '22', '26', '29', '2', '5', '9', '12', '16', '19', '23', '26', '30', '3', '7', '10', '14', '17', '21', '24', '29', '31', '4', '7', '11', '13', '18', '21', '25', '28', '2', '5', '9', '12', '16', '19', '26'], '2020': ['2', '6', '9', '13', '16', '21', '23', '27', '30', '3', '6', '10', '13', '17', '19', '27', '2', '5', '9', '12', '16', '19', '23', '26', '30', '3', '6', '10', '13', '17', '27', '4', '8', '11', '15', '18', '20', '1', '8', '15', '22', '29', '7', '14', '21', '28', '3', '5', '10', '12', '17', '19', '24', '26', '1', '3', '9', '14', '21', '23', '28', '1', '5', '8', '13', '15', '19', '22', '26', '28', '3', '5', '11', '16', '18', '23', '27', '30', '3', '7', '17', '21', '28']}\n",
          "output_type": "stream"
        }
      ],
      "id": "7547d082-e842-4d4a-ae02-87e4afb82b1c"
    },
    {
      "cell_type": "code",
      "source": "def establish_interval(year, time_entries):\n    isLeap = False\n    if (year % 4 == 0 and year % 100 != 0) or year % 400 == 0:\n        isLeap = True\n\n    # Dictionary for months\n    month_length = {'jan' : 31,\n                      'feb' : 29 if isLeap else 28,\n                      'mar' : 31,\n                      'apr' : 30,\n                      'may' : 31,\n                      'jun' : 30,\n                      'jul' : 31,\n                      'aug' : 31,\n                      'sep' : 30,\n                      'oct' : 31,\n                      'nov' : 30,\n                      'dec' : 31}\n    \n    months = ['jan', 'feb', 'mar', 'apr', 'may', 'jun', 'jul', 'aug', 'sep', 'oct', 'nov', 'dec']\n    \n        \n    \n    formatted = [int(time_entries[0])]\n    actual = 0\n    for c in range(1, len(time_entries)):\n        working_month = months[actual]\n        \n        if int(time_entries[c]) < int(time_entries[c - 1]):\n            formatted.append(int(formatted[-1]) + int(time_entries[c]) + month_length[working_month] - int(time_entries[c - 1]))\n            actual += 1\n            \n        else:\n            formatted.append(int(formatted[-1]) + int(time_entries[c]) - int(time_entries[c - 1]))\n    return formatted\n\n\n\n",
      "metadata": {
        "trusted": true
      },
      "execution_count": 78,
      "outputs": [],
      "id": "41a1331f-914b-4bcb-ac33-5214c25f0028"
    },
    {
      "cell_type": "code",
      "source": "print(establish_interval(2020, dates_0['2020']))",
      "metadata": {
        "trusted": true
      },
      "execution_count": 80,
      "outputs": [
        {
          "name": "stdout",
          "text": "[2, 6, 9, 13, 16, 21, 23, 27, 30, 34, 37, 41, 44, 48, 50, 58, 62, 65, 69, 72, 76, 79, 83, 86, 90, 94, 97, 101, 104, 108, 118, 125, 129, 132, 136, 139, 141, 153, 160, 167, 174, 181, 189, 196, 203, 210, 216, 218, 223, 225, 230, 232, 237, 239, 245, 247, 253, 258, 265, 267, 272, 275, 279, 282, 287, 289, 293, 296, 300, 302, 308, 310, 316, 321, 323, 328, 332, 335, 338, 342, 352, 356, 363]\n",
          "output_type": "stream"
        }
      ],
      "id": "c9553b57-6af5-416c-b90c-64aad0e2a1a2"
    },
    {
      "cell_type": "code",
      "source": "",
      "metadata": {
        "trusted": true
      },
      "execution_count": null,
      "outputs": [],
      "id": "9bf363ea-1ea3-4eea-9496-7cf470cfb11e"
    },
    {
      "cell_type": "code",
      "source": "",
      "metadata": {},
      "execution_count": null,
      "outputs": [],
      "id": "f4990e12-da79-4c21-a067-556a5267510e"
    }
  ]
}